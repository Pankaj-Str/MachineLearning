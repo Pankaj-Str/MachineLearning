{
 "cells": [
  {
   "cell_type": "markdown",
   "id": "78694492",
   "metadata": {},
   "source": [
    "\n",
    "## Case Study: Predicting Wine Quality using SVM\n",
    "\n",
    "In this case study, we will use the Support Vector Machine (SVM) algorithm to predict the quality of wine based on its chemical properties. The Wine dataset contains information about various chemical properties of wines and their quality ratings.\n",
    "\n",
    "### Step 1: Load and Prepare Data\n"
   ]
  },
  {
   "cell_type": "code",
   "execution_count": null,
   "id": "f68763c4",
   "metadata": {},
   "outputs": [],
   "source": [
    "\n",
    "import pandas as pd\n",
    "from sklearn.model_selection import train_test_split\n",
    "from sklearn.preprocessing import StandardScaler\n",
    "\n",
    "# Load dataset\n",
    "df = pd.read_csv('wine_dataset.csv')\n",
    "\n",
    "# Display the first few rows\n",
    "df.head()\n"
   ]
  },
  {
   "cell_type": "markdown",
   "id": "3155d787",
   "metadata": {},
   "source": [
    "\n",
    "### Step 2: Split Data into Training and Testing Sets\n"
   ]
  },
  {
   "cell_type": "code",
   "execution_count": null,
   "id": "35f059e1",
   "metadata": {},
   "outputs": [],
   "source": [
    "\n",
    "X = df.drop('target', axis=1)\n",
    "y = df['target']\n",
    "\n",
    "X_train, X_test, y_train, y_test = train_test_split(X, y, test_size=0.2, random_state=42)\n"
   ]
  },
  {
   "cell_type": "markdown",
   "id": "54421eb4",
   "metadata": {},
   "source": [
    "\n",
    "### Step 3: Feature Scaling\n"
   ]
  },
  {
   "cell_type": "code",
   "execution_count": null,
   "id": "d137cb52",
   "metadata": {},
   "outputs": [],
   "source": [
    "\n",
    "scaler = StandardScaler()\n",
    "X_train = scaler.fit_transform(X_train)\n",
    "X_test = scaler.transform(X_test)\n"
   ]
  },
  {
   "cell_type": "markdown",
   "id": "d0599f3b",
   "metadata": {},
   "source": [
    "\n",
    "### Step 4: Build and Train SVM Model\n"
   ]
  },
  {
   "cell_type": "code",
   "execution_count": null,
   "id": "a017dd7a",
   "metadata": {},
   "outputs": [],
   "source": [
    "\n",
    "from sklearn.svm import SVC\n",
    "\n",
    "svm = SVC(kernel='linear')\n",
    "svm.fit(X_train, y_train)\n",
    "y_pred = svm.predict(X_test)\n"
   ]
  },
  {
   "cell_type": "markdown",
   "id": "e510bd30",
   "metadata": {},
   "source": [
    "\n",
    "### Step 5: Evaluate the Model\n"
   ]
  },
  {
   "cell_type": "code",
   "execution_count": null,
   "id": "a6796c75",
   "metadata": {},
   "outputs": [],
   "source": [
    "\n",
    "from sklearn.metrics import classification_report, confusion_matrix, accuracy_score\n",
    "\n",
    "print(classification_report(y_test, y_pred))\n",
    "print(confusion_matrix(y_test, y_pred))\n",
    "print(f\"Accuracy: {accuracy_score(y_test, y_pred) * 100:.2f}%\")\n"
   ]
  },
  {
   "cell_type": "markdown",
   "id": "8608d91d",
   "metadata": {},
   "source": [
    "\n",
    "### Step 6: Hyperparameter Tuning\n"
   ]
  },
  {
   "cell_type": "code",
   "execution_count": null,
   "id": "e4b85743",
   "metadata": {},
   "outputs": [],
   "source": [
    "\n",
    "from sklearn.model_selection import GridSearchCV\n",
    "\n",
    "param_grid = {\n",
    "    'C': [0.1, 1, 10, 100],\n",
    "    'gamma': [1, 0.1, 0.01, 0.001],\n",
    "    'kernel': ['rbf', 'poly', 'sigmoid']\n",
    "}\n",
    "\n",
    "grid_search = GridSearchCV(SVC(), param_grid, cv=5, scoring='accuracy')\n",
    "grid_search.fit(X_train, y_train)\n",
    "\n",
    "print(f\"Best parameters: {grid_search.best_params_}\")\n",
    "print(f\"Best score: {grid_search.best_score_}\")\n"
   ]
  },
  {
   "cell_type": "markdown",
   "id": "3a639b05",
   "metadata": {},
   "source": [
    "\n",
    "### Step 7: Evaluate the Tuned Model\n"
   ]
  },
  {
   "cell_type": "code",
   "execution_count": null,
   "id": "acf11c9b",
   "metadata": {},
   "outputs": [],
   "source": [
    "\n",
    "best_svm = grid_search.best_estimator_\n",
    "best_svm.fit(X_train, y_train)\n",
    "y_pred_best = best_svm.predict(X_test)\n",
    "\n",
    "print(classification_report(y_test, y_pred_best))\n",
    "print(confusion_matrix(y_test, y_pred_best))\n",
    "print(f\"Accuracy: {accuracy_score(y_test, y_pred_best) * 100:.2f}%\")\n"
   ]
  }
 ],
 "metadata": {},
 "nbformat": 4,
 "nbformat_minor": 5
}
